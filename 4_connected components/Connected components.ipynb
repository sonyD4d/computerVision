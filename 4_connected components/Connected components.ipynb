{
 "cells": [
  {
   "cell_type": "markdown",
   "id": "8b607fc0",
   "metadata": {},
   "source": [
    "# Computer Vision : Count the number of connected components"
   ]
  },
  {
   "cell_type": "code",
   "execution_count": 1,
   "id": "c93874fd",
   "metadata": {},
   "outputs": [],
   "source": [
    "import cv2\n",
    "import matplotlib.pyplot as plt\n",
    "import numpy as np"
   ]
  },
  {
   "cell_type": "markdown",
   "id": "04e38de0",
   "metadata": {},
   "source": [
    "## Dry run"
   ]
  },
  {
   "cell_type": "markdown",
   "id": "a237bf81",
   "metadata": {},
   "source": [
    "        - Read Image and pre-process it\n",
    "            - resize it to 15x20\n",
    "            - convert it into binary threshold matrix"
   ]
  },
  {
   "cell_type": "code",
   "execution_count": 2,
   "id": "00d4db2e",
   "metadata": {},
   "outputs": [
    {
     "data": {
      "image/png": "[encoded data removed]",
      "text/plain": [
       "<Figure size 288x288 with 1 Axes>"
      ]
     },
     "metadata": {
      "needs_background": "light"
     },
     "output_type": "display_data"
    }
   ],
   "source": [
    "img = cv2.imread('demo.png',cv2.IMREAD_GRAYSCALE)\n",
    "img = cv2.resize(img, (15, 20))\n",
    "thresh = 128\n",
    "img_binary = cv2.threshold(img, thresh, 1, cv2.THRESH_BINARY)[1]\n",
    "plt.figure(figsize=(4,4))\n",
    "plt.axis(\"off\")\n",
    "plt.imshow(img_binary)\n",
    "plt.show()"
   ]
  },
  {
   "cell_type": "code",
   "execution_count": 3,
   "id": "7fb8528b",
   "metadata": {
    "scrolled": true
   },
   "outputs": [
    {
     "data": {
      "text/plain": [
       "array([[1, 1, 1, 1, 1, 1, 1, 1, 1, 1, 1, 1, 1, 1, 1],\n",
       "       [1, 1, 1, 1, 1, 1, 1, 1, 1, 1, 1, 1, 1, 1, 1],\n",
       "       [1, 1, 1, 1, 1, 1, 1, 1, 1, 1, 1, 1, 1, 1, 1],\n",
       "       [1, 1, 1, 1, 1, 1, 1, 1, 1, 1, 1, 1, 1, 1, 1],\n",
       "       [1, 1, 1, 1, 1, 1, 1, 1, 1, 1, 0, 1, 1, 1, 1],\n",
       "       [1, 1, 1, 1, 1, 0, 1, 1, 1, 1, 1, 1, 1, 1, 1],\n",
       "       [1, 1, 1, 1, 1, 0, 1, 1, 1, 1, 0, 1, 1, 1, 1],\n",
       "       [1, 1, 1, 1, 0, 1, 1, 1, 1, 1, 0, 1, 1, 1, 1],\n",
       "       [1, 1, 1, 1, 0, 1, 1, 1, 1, 1, 0, 1, 1, 1, 1],\n",
       "       [1, 1, 1, 1, 0, 1, 1, 1, 1, 0, 0, 1, 1, 1, 1],\n",
       "       [1, 1, 1, 1, 0, 1, 1, 1, 1, 0, 0, 1, 1, 1, 1],\n",
       "       [1, 1, 1, 1, 0, 1, 1, 1, 1, 0, 1, 1, 1, 1, 1],\n",
       "       [1, 1, 1, 1, 0, 0, 0, 0, 0, 0, 1, 1, 1, 1, 1],\n",
       "       [1, 1, 1, 1, 1, 1, 1, 1, 1, 0, 1, 1, 1, 1, 1],\n",
       "       [1, 1, 1, 1, 1, 1, 1, 1, 1, 0, 1, 1, 1, 1, 1],\n",
       "       [1, 1, 1, 1, 1, 1, 1, 1, 1, 0, 1, 1, 1, 1, 1],\n",
       "       [1, 1, 1, 1, 1, 1, 1, 1, 1, 0, 1, 1, 1, 1, 1],\n",
       "       [1, 1, 1, 1, 1, 1, 1, 1, 1, 1, 1, 1, 1, 1, 1],\n",
       "       [1, 1, 1, 1, 1, 1, 1, 1, 1, 1, 1, 1, 1, 1, 1],\n",
       "       [1, 1, 1, 1, 1, 1, 1, 1, 1, 1, 1, 1, 1, 1, 1]], dtype=uint8)"
      ]
     },
     "execution_count": 3,
     "metadata": {},
     "output_type": "execute_result"
    }
   ],
   "source": [
    "# Binary matrix\n",
    "img_binary"
   ]
  },
  {
   "cell_type": "code",
   "execution_count": 4,
   "id": "5f98f5a2",
   "metadata": {},
   "outputs": [
    {
     "data": {
      "text/plain": [
       "(20, 15)"
      ]
     },
     "execution_count": 4,
     "metadata": {},
     "output_type": "execute_result"
    }
   ],
   "source": [
    "img_binary.shape"
   ]
  },
  {
   "cell_type": "code",
   "execution_count": 5,
   "id": "f2b60401",
   "metadata": {},
   "outputs": [],
   "source": [
    "import collections\n",
    "# Eq class by disjoint set\n",
    "class UnionFind:\n",
    "    def __init__(self):\n",
    "        self.leaders = collections.defaultdict(lambda: None)\n",
    "    def find(self, x):\n",
    "        # find leaders\n",
    "        l = self.leaders[x]\n",
    "        if l is not None:\n",
    "            l = self.find(l)\n",
    "            self.leaders[x] = l\n",
    "            return l\n",
    "        return x\n",
    "    def union(self, x, y):\n",
    "        # union and assign leaders \n",
    "        lx, ly = self.find(x), self.find(y)\n",
    "        if lx != ly:\n",
    "            self.leaders[lx] = ly\n",
    "    def get_groups(self):\n",
    "        # eq classes\n",
    "        groups = collections.defaultdict(set)\n",
    "        for x in self.leaders:\n",
    "            groups[self.find(x)].add(x)\n",
    "        return list(groups.values())\n",
    "    \n",
    "# Algorithm\n",
    "def scan(img_binary):\n",
    "    # Initilize a matrix equal to size of the image to mark \n",
    "    scan_one = np.zeros(img_binary.shape,dtype=np.int8)\n",
    "    # To keep track of numbers used\n",
    "    count = 0\n",
    "    eq_pairs = set()\n",
    "    # first scan\n",
    "    for i in range(img_binary.shape[0]):\n",
    "        for j in range(img_binary.shape[1]):\n",
    "            if(img_binary[i][j] == 0):\n",
    "                # If we have choice to inherit both rigth and above\n",
    "                if(scan_one[max(0,i-1)][j] != 0 and scan_one[i][max(0,j-1)] != 0 ):\n",
    "                        eq_pairs.add((scan_one[max(0,i-1)][j],scan_one[i][max(0,j-1)]))\n",
    "                        scan_one[i][j] = scan_one[max(0,i-1)][j]\n",
    "                # If we have chance to inherit right\n",
    "                elif(scan_one[max(0,i-1)][j] != 0):\n",
    "                    scan_one[i][j] = scan_one[max(0,i-1)][j]\n",
    "                # If we have chance to inherit above\n",
    "                elif(scan_one[i][max(0,j-1)] != 0):\n",
    "                    scan_one[i][j] = scan_one[i][max(0,j-1)]\n",
    "                # New value\n",
    "                else:\n",
    "                    scan_one[i][j] = count+1\n",
    "                    count+=1\n",
    "                    eq_pairs.add((scan_one[i][j],scan_one[i][j]))\n",
    "    # eq pair generation\n",
    "    uf = UnionFind()\n",
    "    for (a, b) in eq_pairs:\n",
    "        uf.union(a, b)\n",
    "    return eq_pairs,scan_one,uf"
   ]
  },
  {
   "cell_type": "code",
   "execution_count": 6,
   "id": "191edc93",
   "metadata": {
    "scrolled": true
   },
   "outputs": [
    {
     "name": "stdout",
     "output_type": "stream",
     "text": [
      "                              \n",
      "                              \n",
      "                              \n",
      "                              \n",
      "                    1         \n",
      "          2                   \n",
      "          2         3         \n",
      "        4           3         \n",
      "        4           3         \n",
      "        4         5 3         \n",
      "        4         5 3         \n",
      "        4         5           \n",
      "        4 4 4 4 4 5           \n",
      "                  5           \n",
      "                  5           \n",
      "                  5           \n",
      "                  5           \n",
      "                              \n",
      "                              \n",
      "                              \n"
     ]
    }
   ],
   "source": [
    "# Theory representation\n",
    "test_pairs,matrix,cls = scan(img_binary)\n",
    "for i in matrix:\n",
    "    for j in i:\n",
    "        if(j == 0):\n",
    "            print('',end='  ')\n",
    "        else:\n",
    "            print(j,end=' ')\n",
    "    print()"
   ]
  },
  {
   "cell_type": "code",
   "execution_count": 7,
   "id": "2bcc50f3",
   "metadata": {
    "scrolled": false
   },
   "outputs": [
    {
     "name": "stdout",
     "output_type": "stream",
     "text": [
      "{(4, 4), (5, 5), (1, 1), (5, 4), (3, 3), (2, 2), (3, 5)}\n"
     ]
    }
   ],
   "source": [
    "# eq pairs\n",
    "print(test_pairs)"
   ]
  },
  {
   "cell_type": "code",
   "execution_count": 8,
   "id": "d909a26f",
   "metadata": {},
   "outputs": [
    {
     "name": "stdout",
     "output_type": "stream",
     "text": [
      "Number of components : 3\n",
      "Components :  [{3, 4, 5}, {1}, {2}]\n"
     ]
    }
   ],
   "source": [
    "print(\"Number of components : \" + str(len(cls.get_groups())))\n",
    "print(\"Components : \" , cls.get_groups())"
   ]
  },
  {
   "cell_type": "markdown",
   "id": "0f8d8944",
   "metadata": {},
   "source": [
    "## Application \n",
    "\n",
    "    - find number of moves completed in tic/tac/toe game using component labeling."
   ]
  },
  {
   "cell_type": "code",
   "execution_count": 9,
   "id": "320b4ab5",
   "metadata": {},
   "outputs": [],
   "source": [
    "# read and preprocess\n",
    "def ttt(path):\n",
    "    img = cv2.imread(path,cv2.IMREAD_GRAYSCALE)\n",
    "    img = cv2.resize(img, (200, 200))\n",
    "    thresh = 200\n",
    "    img_binary = cv2.threshold(img, thresh, 1, cv2.THRESH_BINARY)[1]\n",
    "    plt.figure(figsize=(4,4))\n",
    "    plt.axis(\"off\")\n",
    "    plt.imshow(img_binary)\n",
    "    plt.show()\n",
    "    print(\"Number of moves done : \",len(scan(img_binary)[2].get_groups())-1)"
   ]
  },
  {
   "cell_type": "code",
   "execution_count": 10,
   "id": "30f66156",
   "metadata": {
    "scrolled": true
   },
   "outputs": [
    {
     "data": {
      "image/png": "[encoded data removed]",
      "text/plain": [
       "<Figure size 288x288 with 1 Axes>"
      ]
     },
     "metadata": {
      "needs_background": "light"
     },
     "output_type": "display_data"
    },
    {
     "name": "stdout",
     "output_type": "stream",
     "text": [
      "Number of moves done :  2\n"
     ]
    },
    {
     "data": {
      "image/png": "[encoded data removed]",
      "text/plain": [
       "<Figure size 288x288 with 1 Axes>"
      ]
     },
     "metadata": {
      "needs_background": "light"
     },
     "output_type": "display_data"
    },
    {
     "name": "stdout",
     "output_type": "stream",
     "text": [
      "Number of moves done :  6\n"
     ]
    }
   ],
   "source": [
    "# test\n",
    "import os\n",
    "for img in os.listdir('data'):\n",
    "    ttt('data/'+img)"
   ]
  }
 ],
 "metadata": {
  "kernelspec": {
   "display_name": "Python 3 (ipykernel)",
   "language": "python",
   "name": "python3"
  },
  "language_info": {
   "codemirror_mode": {
    "name": "ipython",
    "version": 3
   },
   "file_extension": ".py",
   "mimetype": "text/x-python",
   "name": "python",
   "nbconvert_exporter": "python",
   "pygments_lexer": "ipython3",
   "version": "3.8.12"
  }
 },
 "nbformat": 4,
 "nbformat_minor": 5
}
