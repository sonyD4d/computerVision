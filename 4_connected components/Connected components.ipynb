{
 "cells": [
  {
   "cell_type": "markdown",
   "id": "8b607fc0",
   "metadata": {},
   "source": [
    "# Computer Vision : Count the number of connected components"
   ]
  },
  {
   "cell_type": "code",
   "execution_count": 1,
   "id": "c93874fd",
   "metadata": {},
   "outputs": [],
   "source": [
    "import cv2\n",
    "import matplotlib.pyplot as plt\n",
    "import numpy as np"
   ]
  },
  {
   "cell_type": "code",
   "execution_count": 2,
   "id": "00d4db2e",
   "metadata": {},
   "outputs": [
    {
     "data": {
      "image/png": "[encoded data removed]",
      "text/plain": [
       "<Figure size 288x288 with 1 Axes>"
      ]
     },
     "metadata": {
      "needs_background": "light"
     },
     "output_type": "display_data"
    }
   ],
   "source": [
    "img = cv2.imread('demo.png',cv2.IMREAD_GRAYSCALE)\n",
    "img = cv2.resize(img, (15, 20))\n",
    "thresh = 128\n",
    "img_binary = cv2.threshold(img, thresh, 1, cv2.THRESH_BINARY)[1]\n",
    "plt.figure(figsize=(4,4))\n",
    "plt.axis(\"off\")\n",
    "plt.imshow(img_binary)\n",
    "plt.show()"
   ]
  },
  {
   "cell_type": "code",
   "execution_count": 3,
   "id": "7fb8528b",
   "metadata": {
    "scrolled": true
   },
   "outputs": [
    {
     "data": {
      "text/plain": [
       "array([[1, 1, 1, 1, 1, 1, 1, 1, 1, 1, 1, 1, 1, 1, 1],\n",
       "       [1, 1, 1, 1, 1, 1, 1, 1, 1, 1, 1, 1, 1, 1, 1],\n",
       "       [1, 1, 1, 1, 1, 1, 1, 1, 1, 1, 1, 1, 1, 1, 1],\n",
       "       [1, 1, 1, 1, 1, 1, 1, 1, 1, 1, 1, 1, 1, 1, 1],\n",
       "       [1, 1, 1, 1, 1, 1, 1, 1, 1, 1, 0, 1, 1, 1, 1],\n",
       "       [1, 1, 1, 1, 1, 0, 1, 1, 1, 1, 1, 1, 1, 1, 1],\n",
       "       [1, 1, 1, 1, 1, 0, 1, 1, 1, 1, 0, 1, 1, 1, 1],\n",
       "       [1, 1, 1, 1, 0, 1, 1, 1, 1, 1, 0, 1, 1, 1, 1],\n",
       "       [1, 1, 1, 1, 0, 1, 1, 1, 1, 1, 0, 1, 1, 1, 1],\n",
       "       [1, 1, 1, 1, 0, 1, 1, 1, 1, 0, 0, 1, 1, 1, 1],\n",
       "       [1, 1, 1, 1, 0, 1, 1, 1, 1, 0, 0, 1, 1, 1, 1],\n",
       "       [1, 1, 1, 1, 0, 1, 1, 1, 1, 0, 1, 1, 1, 1, 1],\n",
       "       [1, 1, 1, 1, 0, 0, 0, 0, 0, 0, 1, 1, 1, 1, 1],\n",
       "       [1, 1, 1, 1, 1, 1, 1, 1, 1, 0, 1, 1, 1, 1, 1],\n",
       "       [1, 1, 1, 1, 1, 1, 1, 1, 1, 0, 1, 1, 1, 1, 1],\n",
       "       [1, 1, 1, 1, 1, 1, 1, 1, 1, 0, 1, 1, 1, 1, 1],\n",
       "       [1, 1, 1, 1, 1, 1, 1, 1, 1, 0, 1, 1, 1, 1, 1],\n",
       "       [1, 1, 1, 1, 1, 1, 1, 1, 1, 1, 1, 1, 1, 1, 1],\n",
       "       [1, 1, 1, 1, 1, 1, 1, 1, 1, 1, 1, 1, 1, 1, 1],\n",
       "       [1, 1, 1, 1, 1, 1, 1, 1, 1, 1, 1, 1, 1, 1, 1]], dtype=uint8)"
      ]
     },
     "execution_count": 3,
     "metadata": {},
     "output_type": "execute_result"
    }
   ],
   "source": [
    "img_binary"
   ]
  },
  {
   "cell_type": "code",
   "execution_count": 4,
   "id": "5f98f5a2",
   "metadata": {},
   "outputs": [
    {
     "data": {
      "text/plain": [
       "(20, 15)"
      ]
     },
     "execution_count": 4,
     "metadata": {},
     "output_type": "execute_result"
    }
   ],
   "source": [
    "img_binary.shape"
   ]
  },
  {
   "cell_type": "code",
   "execution_count": 5,
   "id": "31c85b44",
   "metadata": {},
   "outputs": [],
   "source": [
    "scan_one = np.zeros(img_binary.shape,dtype=np.int8)"
   ]
  },
  {
   "cell_type": "code",
   "execution_count": 6,
   "id": "f2b60401",
   "metadata": {},
   "outputs": [],
   "source": [
    "count = 0\n",
    "eq_pairs = set()\n",
    "for i in range(img_binary.shape[0]):\n",
    "    for j in range(img_binary.shape[1]):\n",
    "        if(img_binary[i][j] == 0):\n",
    "            if(scan_one[max(0,i-1)][j] != 0 and scan_one[i][max(0,j-1)] != 0 ):\n",
    "                    eq_pairs.add((scan_one[max(0,i-1)][j],scan_one[i][max(0,j-1)]))\n",
    "                    scan_one[i][j] = scan_one[max(0,i-1)][j]\n",
    "            elif(scan_one[max(0,i-1)][j] != 0):\n",
    "                scan_one[i][j] = scan_one[max(0,i-1)][j]\n",
    "            elif(scan_one[i][max(0,j-1)] != 0):\n",
    "                scan_one[i][j] = scan_one[i][max(0,j-1)]\n",
    "            else:\n",
    "                scan_one[i][j] = count+1\n",
    "                count+=1\n",
    "                eq_pairs.add((scan_one[i][j],scan_one[i][j]))"
   ]
  },
  {
   "cell_type": "code",
   "execution_count": 7,
   "id": "be42b11e",
   "metadata": {
    "scrolled": true
   },
   "outputs": [
    {
     "name": "stdout",
     "output_type": "stream",
     "text": [
      "                              \n",
      "                              \n",
      "                              \n",
      "                              \n",
      "                    1         \n",
      "          2                   \n",
      "          2         3         \n",
      "        4           3         \n",
      "        4           3         \n",
      "        4         5 3         \n",
      "        4         5 3         \n",
      "        4         5           \n",
      "        4 4 4 4 4 5           \n",
      "                  5           \n",
      "                  5           \n",
      "                  5           \n",
      "                  5           \n",
      "                              \n",
      "                              \n",
      "                              \n"
     ]
    }
   ],
   "source": [
    "for i in scan_one:\n",
    "    for j in i:\n",
    "        if(j == 0):\n",
    "            print('',end='  ')\n",
    "        else:\n",
    "            print(j,end=' ')\n",
    "    print()"
   ]
  },
  {
   "cell_type": "code",
   "execution_count": 8,
   "id": "2bcc50f3",
   "metadata": {},
   "outputs": [
    {
     "name": "stdout",
     "output_type": "stream",
     "text": [
      "{(4, 4), (5, 5), (1, 1), (5, 4), (3, 3), (2, 2), (3, 5)}\n"
     ]
    }
   ],
   "source": [
    "print(eq_pairs)"
   ]
  }
 ],
 "metadata": {
  "kernelspec": {
   "display_name": "Python 3 (ipykernel)",
   "language": "python",
   "name": "python3"
  },
  "language_info": {
   "codemirror_mode": {
    "name": "ipython",
    "version": 3
   },
   "file_extension": ".py",
   "mimetype": "text/x-python",
   "name": "python",
   "nbconvert_exporter": "python",
   "pygments_lexer": "ipython3",
   "version": "3.8.12"
  }
 },
 "nbformat": 4,
 "nbformat_minor": 5
}
